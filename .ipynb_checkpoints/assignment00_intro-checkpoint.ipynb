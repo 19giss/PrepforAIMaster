{
 "cells": [
  {
   "cell_type": "markdown",
   "id": "84cac45f",
   "metadata": {},
   "source": [
    "# Assignment 00 — JupyterLab Warmup (Stats & Probability)\n",
    "Welcome! Run each cell and read the notes. When done, go to **Kernel → Restart Kernel and Run All**.\n",
    "\n",
    "**Goals**:\n",
    "1. Import core libraries\n",
    "2. Simulate a random process\n",
    "3. Plot a distribution\n",
    "4. Do a quick hypothesis test\n",
    "\n",
    "_Author: Your Name_\n"
   ]
  },
  {
   "cell_type": "code",
   "execution_count": null,
   "id": "3195710a",
   "metadata": {},
   "outputs": [],
   "source": [
    "import sys\n",
    "print(f'Python version: {sys.version.split()[0]}')"
   ]
  },
  {
   "cell_type": "code",
   "execution_count": null,
   "id": "3c417443",
   "metadata": {},
   "outputs": [],
   "source": [
    "import numpy as np\n",
    "import pandas as pd\n",
    "import matplotlib.pyplot as plt\n",
    "from scipy import stats\n",
    "\n",
    "print('Libraries imported!')"
   ]
  },
  {
   "cell_type": "markdown",
   "id": "1cc191f9",
   "metadata": {},
   "source": [
    "## 1) Simulate a fair coin 10,000 times\n",
    "We expect about half heads and half tails."
   ]
  },
  {
   "cell_type": "code",
   "execution_count": null,
   "id": "29e164e0",
   "metadata": {},
   "outputs": [],
   "source": [
    "np.random.seed(42)\n",
    "trials = 10_000\n",
    "flips = np.random.choice(['H','T'], size=trials)\n",
    "heads = np.sum(flips == 'H')\n",
    "tails = trials - heads\n",
    "heads, tails"
   ]
  },
  {
   "cell_type": "markdown",
   "id": "ba29c1bd",
   "metadata": {},
   "source": [
    "## 2) Visualize a Normal distribution\n",
    "Let's draw samples and plot a histogram."
   ]
  },
  {
   "cell_type": "code",
   "execution_count": null,
   "id": "ffa25b40",
   "metadata": {},
   "outputs": [],
   "source": [
    "samples = np.random.normal(loc=0, scale=1, size=5000)\n",
    "plt.figure()\n",
    "plt.hist(samples, bins=40, edgecolor='white')\n",
    "plt.title('Histogram of Standard Normal Samples')\n",
    "plt.xlabel('Value')\n",
    "plt.ylabel('Frequency')\n",
    "plt.show()"
   ]
  },
  {
   "cell_type": "markdown",
   "id": "5554ed58",
   "metadata": {},
   "source": [
    "## 3) Load a small dataset and compute summary stats"
   ]
  },
  {
   "cell_type": "code",
   "execution_count": null,
   "id": "41b52946",
   "metadata": {},
   "outputs": [],
   "source": [
    "import pandas as pd\n",
    "scores = pd.read_csv('../data/sample_scores.csv')\n",
    "scores.describe()"
   ]
  },
  {
   "cell_type": "markdown",
   "id": "8ded46ee",
   "metadata": {},
   "source": [
    "## 4) Two-sample t-test (control vs treatment)\n",
    "Null: means are equal."
   ]
  },
  {
   "cell_type": "code",
   "execution_count": null,
   "id": "7c5a3dcd",
   "metadata": {},
   "outputs": [],
   "source": [
    "control = scores.query('group == \"control\"')['score']\n",
    "treat = scores.query('group == \"treatment\"')['score']\n",
    "res = stats.ttest_ind(control, treat, equal_var=False)  # Welch's t-test\n",
    "res"
   ]
  },
  {
   "cell_type": "markdown",
   "id": "bb6707ee",
   "metadata": {},
   "source": [
    "## 5) Short reflection (Markdown)\n",
    "- What does the p-value suggest?\n",
    "- If you repeated sampling, would the result always be the same? Why/why not?\n",
    "\n",
    "> Replace this block with your notes."
   ]
  }
 ],
 "metadata": {},
 "nbformat": 4,
 "nbformat_minor": 5
}
