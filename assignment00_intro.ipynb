{
 "cells": [
  {
   "cell_type": "markdown",
   "id": "84cac45f",
   "metadata": {},
   "source": [
    "# Assignment 00 — JupyterLab Warmup (Stats & Probability)\n",
    "Welcome! Run each cell and read the notes. When done, go to **Kernel → Restart Kernel and Run All**.\n",
    "\n",
    "**Goals**:\n",
    "1. Import core libraries\n",
    "2. Simulate a random process\n",
    "3. Plot a distribution\n",
    "4. Do a quick hypothesis test\n",
    "\n",
    "_Author: Your Name_\n"
   ]
  },
  {
   "cell_type": "code",
   "execution_count": 1,
   "id": "3195710a",
   "metadata": {},
   "outputs": [
    {
     "name": "stdout",
     "output_type": "stream",
     "text": [
      "Python version: 3.8.8\n"
     ]
    }
   ],
   "source": [
    "import sys\n",
    "print(f'Python version: {sys.version.split()[0]}')"
   ]
  },
  {
   "cell_type": "code",
   "execution_count": 2,
   "id": "3c417443",
   "metadata": {},
   "outputs": [
    {
     "name": "stdout",
     "output_type": "stream",
     "text": [
      "Libraries imported!\n"
     ]
    }
   ],
   "source": [
    "import numpy as np\n",
    "import pandas as pd\n",
    "import matplotlib.pyplot as plt\n",
    "from scipy import stats\n",
    "\n",
    "print('Libraries imported!')"
   ]
  },
  {
   "cell_type": "markdown",
   "id": "1cc191f9",
   "metadata": {},
   "source": [
    "## 1) Simulate a fair coin 10,000 times\n",
    "We expect about half heads and half tails."
   ]
  },
  {
   "cell_type": "code",
   "execution_count": 3,
   "id": "29e164e0",
   "metadata": {},
   "outputs": [
    {
     "data": {
      "text/plain": [
       "(5013, 4987)"
      ]
     },
     "execution_count": 3,
     "metadata": {},
     "output_type": "execute_result"
    }
   ],
   "source": [
    "np.random.seed(42)\n",
    "trials = 10_000\n",
    "flips = np.random.choice(['H','T'], size=trials)\n",
    "heads = np.sum(flips == 'H')\n",
    "tails = trials - heads\n",
    "heads, tails"
   ]
  },
  {
   "cell_type": "markdown",
   "id": "ba29c1bd",
   "metadata": {},
   "source": [
    "## 2) Visualize a Normal distribution\n",
    "Let's draw samples and plot a histogram."
   ]
  },
  {
   "cell_type": "code",
   "execution_count": 4,
   "id": "ffa25b40",
   "metadata": {},
   "outputs": [
    {
     "data": {
      "image/png": "[encoded data removed]",
      "text/plain": [
       "<Figure size 432x288 with 1 Axes>"
      ]
     },
     "metadata": {
      "needs_background": "light"
     },
     "output_type": "display_data"
    }
   ],
   "source": [
    "samples = np.random.normal(loc=0, scale=1, size=5000)\n",
    "plt.figure()\n",
    "plt.hist(samples, bins=40, edgecolor='white')\n",
    "plt.title('Histogram of Standard Normal Samples')\n",
    "plt.xlabel('Value')\n",
    "plt.ylabel('Frequency')\n",
    "plt.show()"
   ]
  },
  {
   "cell_type": "markdown",
   "id": "5554ed58",
   "metadata": {},
   "source": [
    "## 3) Load a small dataset and compute summary stats"
   ]
  },
  {
   "cell_type": "code",
   "execution_count": 5,
   "id": "41b52946",
   "metadata": {},
   "outputs": [
    {
     "data": {
      "text/html": [
       "<div>\n",
       "<style scoped>\n",
       "    .dataframe tbody tr th:only-of-type {\n",
       "        vertical-align: middle;\n",
       "    }\n",
       "\n",
       "    .dataframe tbody tr th {\n",
       "        vertical-align: top;\n",
       "    }\n",
       "\n",
       "    .dataframe thead th {\n",
       "        text-align: right;\n",
       "    }\n",
       "</style>\n",
       "<table border=\"1\" class=\"dataframe\">\n",
       "  <thead>\n",
       "    <tr style=\"text-align: right;\">\n",
       "      <th></th>\n",
       "      <th>score</th>\n",
       "    </tr>\n",
       "  </thead>\n",
       "  <tbody>\n",
       "    <tr>\n",
       "      <th>count</th>\n",
       "      <td>100.000000</td>\n",
       "    </tr>\n",
       "    <tr>\n",
       "      <th>mean</th>\n",
       "      <td>76.131900</td>\n",
       "    </tr>\n",
       "    <tr>\n",
       "      <th>std</th>\n",
       "      <td>10.667551</td>\n",
       "    </tr>\n",
       "    <tr>\n",
       "      <th>min</th>\n",
       "      <td>53.770000</td>\n",
       "    </tr>\n",
       "    <tr>\n",
       "      <th>25%</th>\n",
       "      <td>67.597500</td>\n",
       "    </tr>\n",
       "    <tr>\n",
       "      <th>50%</th>\n",
       "      <td>76.720000</td>\n",
       "    </tr>\n",
       "    <tr>\n",
       "      <th>75%</th>\n",
       "      <td>84.130000</td>\n",
       "    </tr>\n",
       "    <tr>\n",
       "      <th>max</th>\n",
       "      <td>100.980000</td>\n",
       "    </tr>\n",
       "  </tbody>\n",
       "</table>\n",
       "</div>"
      ],
      "text/plain": [
       "            score\n",
       "count  100.000000\n",
       "mean    76.131900\n",
       "std     10.667551\n",
       "min     53.770000\n",
       "25%     67.597500\n",
       "50%     76.720000\n",
       "75%     84.130000\n",
       "max    100.980000"
      ]
     },
     "execution_count": 5,
     "metadata": {},
     "output_type": "execute_result"
    }
   ],
   "source": [
    "import pandas as pd\n",
    "scores = pd.read_csv('../Testing/sample_scores.csv')\n",
    "scores.describe()"
   ]
  },
  {
   "cell_type": "markdown",
   "id": "8ded46ee",
   "metadata": {},
   "source": [
    "## 4) Two-sample t-test (control vs treatment)\n",
    "Null: means are equal."
   ]
  },
  {
   "cell_type": "code",
   "execution_count": 6,
   "id": "7c5a3dcd",
   "metadata": {},
   "outputs": [
    {
     "data": {
      "text/plain": [
       "Ttest_indResult(statistic=0.6986256006899251, pvalue=0.4865075059162818)"
      ]
     },
     "execution_count": 6,
     "metadata": {},
     "output_type": "execute_result"
    }
   ],
   "source": [
    "control = scores.query('group == \"control\"')['score']\n",
    "treat = scores.query('group == \"treatment\"')['score']\n",
    "res = stats.ttest_ind(control, treat, equal_var=False)  # Welch's t-test\n",
    "res"
   ]
  },
  {
   "cell_type": "markdown",
   "id": "609bbf8c-d96b-44e6-a752-506faf03b447",
   "metadata": {},
   "source": [
    "## 5) Short reflection (Markdown)\n",
    "- What does the p-value suggest?\n",
    "- If you repeated sampling, would the result always be the same? Why/why not?\n",
    "\n",
    "\n",
    "- The p-value is ~0.49, which is much higher than 0.05, so there is no evidence of a difference in means.  \n",
    "- If I repeated the sampling, the exact statistic and p-value would change slightly because of randomness, but overall the conclusion (no significant difference) would likely remain.\n"
   ]
  },
  {
   "cell_type": "code",
   "execution_count": null,
   "id": "81d6bc5b-f1cb-42cd-bc22-18a61a8d932c",
   "metadata": {},
   "outputs": [],
   "source": []
  }
 ],
 "metadata": {
  "kernelspec": {
   "display_name": "Python 3",
   "language": "python",
   "name": "python3"
  },
  "language_info": {
   "codemirror_mode": {
    "name": "ipython",
    "version": 3
   },
   "file_extension": ".py",
   "mimetype": "text/x-python",
   "name": "python",
   "nbconvert_exporter": "python",
   "pygments_lexer": "ipython3",
   "version": "3.8.8"
  }
 },
 "nbformat": 4,
 "nbformat_minor": 5
}
