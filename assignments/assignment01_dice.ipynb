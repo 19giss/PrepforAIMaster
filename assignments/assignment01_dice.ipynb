{
 "cells": [
  {
   "cell_type": "markdown",
   "id": "3fe25efc-960a-43f4-a3cb-e094f1eae8bd",
   "metadata": {},
   "source": [
    "Cell 1 (imports):"
   ]
  },
  {
   "cell_type": "code",
   "execution_count": 1,
   "id": "647d915a-4726-4210-ae92-d732e9fc0cf8",
   "metadata": {},
   "outputs": [],
   "source": [
    "import numpy as np\n",
    "import pandas as pd\n",
    "import matplotlib.pyplot as plt\n",
    "from collections import Counter"
   ]
  },
  {
   "cell_type": "markdown",
   "id": "0420b40f-a2f4-4978-94e1-e49bec466d17",
   "metadata": {},
   "source": [
    "Cell 2 (simulate 2 dice):"
   ]
  },
  {
   "cell_type": "code",
   "execution_count": 2,
   "id": "5c346932-bf64-4795-b7b9-13f01c779de5",
   "metadata": {},
   "outputs": [
    {
     "data": {
      "text/plain": [
       "Counter({9: 5571,\n",
       "         8: 6919,\n",
       "         10: 4102,\n",
       "         7: 8456,\n",
       "         3: 2710,\n",
       "         4: 4201,\n",
       "         5: 5480,\n",
       "         2: 1436,\n",
       "         6: 6967,\n",
       "         12: 1392,\n",
       "         11: 2766})"
      ]
     },
     "execution_count": 2,
     "metadata": {},
     "output_type": "execute_result"
    }
   ],
   "source": [
    "np.random.seed(7)\n",
    "N = 50_000\n",
    "d1 = np.random.randint(1, 7, N)\n",
    "d2 = np.random.randint(1, 7, N)\n",
    "sums = d1 + d2\n",
    "Counter(sums)"
   ]
  },
  {
   "cell_type": "markdown",
   "id": "0fa1f2df-a413-4ad6-99ba-0a7f355887ac",
   "metadata": {},
   "source": [
    "Cell 3 (plot distribution):"
   ]
  },
  {
   "cell_type": "code",
   "execution_count": 3,
   "id": "7906acc0-5892-48a8-af88-ed5d27a8e3c0",
   "metadata": {},
   "outputs": [
    {
     "data": {
      "image/png": "[encoded data removed]",
      "text/plain": [
       "<Figure size 432x288 with 1 Axes>"
      ]
     },
     "metadata": {
      "needs_background": "light"
     },
     "output_type": "display_data"
    },
    {
     "data": {
      "text/plain": [
       "2     0.02872\n",
       "3     0.05420\n",
       "4     0.08402\n",
       "5     0.10960\n",
       "6     0.13934\n",
       "7     0.16912\n",
       "8     0.13838\n",
       "9     0.11142\n",
       "10    0.08204\n",
       "11    0.05532\n",
       "12    0.02784\n",
       "dtype: float64"
      ]
     },
     "execution_count": 3,
     "metadata": {},
     "output_type": "execute_result"
    }
   ],
   "source": [
    "plt.figure()\n",
    "bins = np.arange(2, 13)  # 2..12\n",
    "counts = pd.Series(sums).value_counts().sort_index()\n",
    "plt.bar(counts.index, counts.values)\n",
    "plt.title(\"Sum of Two Fair Dice (N=50,000)\")\n",
    "plt.xlabel(\"Sum\")\n",
    "plt.ylabel(\"Frequency\")\n",
    "plt.show()\n",
    "counts / N\n"
   ]
  },
  {
   "cell_type": "markdown",
   "id": "33f6e04e-053a-4711-a29e-e6f917f13a26",
   "metadata": {},
   "source": [
    "Cell 4 (theory vs empirical):"
   ]
  },
  {
   "cell_type": "code",
   "execution_count": 4,
   "id": "c7dcea91-50b4-4cc6-ab55-50cae049c931",
   "metadata": {},
   "outputs": [
    {
     "data": {
      "text/html": [
       "<div>\n",
       "<style scoped>\n",
       "    .dataframe tbody tr th:only-of-type {\n",
       "        vertical-align: middle;\n",
       "    }\n",
       "\n",
       "    .dataframe tbody tr th {\n",
       "        vertical-align: top;\n",
       "    }\n",
       "\n",
       "    .dataframe thead th {\n",
       "        text-align: right;\n",
       "    }\n",
       "</style>\n",
       "<table border=\"1\" class=\"dataframe\">\n",
       "  <thead>\n",
       "    <tr style=\"text-align: right;\">\n",
       "      <th></th>\n",
       "      <th>empirical</th>\n",
       "      <th>theoretical</th>\n",
       "    </tr>\n",
       "  </thead>\n",
       "  <tbody>\n",
       "    <tr>\n",
       "      <th>2</th>\n",
       "      <td>0.02872</td>\n",
       "      <td>0.027778</td>\n",
       "    </tr>\n",
       "    <tr>\n",
       "      <th>3</th>\n",
       "      <td>0.05420</td>\n",
       "      <td>0.055556</td>\n",
       "    </tr>\n",
       "    <tr>\n",
       "      <th>4</th>\n",
       "      <td>0.08402</td>\n",
       "      <td>0.083333</td>\n",
       "    </tr>\n",
       "    <tr>\n",
       "      <th>5</th>\n",
       "      <td>0.10960</td>\n",
       "      <td>0.111111</td>\n",
       "    </tr>\n",
       "    <tr>\n",
       "      <th>6</th>\n",
       "      <td>0.13934</td>\n",
       "      <td>0.138889</td>\n",
       "    </tr>\n",
       "    <tr>\n",
       "      <th>7</th>\n",
       "      <td>0.16912</td>\n",
       "      <td>0.166667</td>\n",
       "    </tr>\n",
       "    <tr>\n",
       "      <th>8</th>\n",
       "      <td>0.13838</td>\n",
       "      <td>0.138889</td>\n",
       "    </tr>\n",
       "    <tr>\n",
       "      <th>9</th>\n",
       "      <td>0.11142</td>\n",
       "      <td>0.111111</td>\n",
       "    </tr>\n",
       "    <tr>\n",
       "      <th>10</th>\n",
       "      <td>0.08204</td>\n",
       "      <td>0.083333</td>\n",
       "    </tr>\n",
       "    <tr>\n",
       "      <th>11</th>\n",
       "      <td>0.05532</td>\n",
       "      <td>0.055556</td>\n",
       "    </tr>\n",
       "    <tr>\n",
       "      <th>12</th>\n",
       "      <td>0.02784</td>\n",
       "      <td>0.027778</td>\n",
       "    </tr>\n",
       "  </tbody>\n",
       "</table>\n",
       "</div>"
      ],
      "text/plain": [
       "    empirical  theoretical\n",
       "2     0.02872     0.027778\n",
       "3     0.05420     0.055556\n",
       "4     0.08402     0.083333\n",
       "5     0.10960     0.111111\n",
       "6     0.13934     0.138889\n",
       "7     0.16912     0.166667\n",
       "8     0.13838     0.138889\n",
       "9     0.11142     0.111111\n",
       "10    0.08204     0.083333\n",
       "11    0.05532     0.055556\n",
       "12    0.02784     0.027778"
      ]
     },
     "execution_count": 4,
     "metadata": {},
     "output_type": "execute_result"
    }
   ],
   "source": [
    "# theoretical probabilities for 2 dice\n",
    "theory = {2:1,3:2,4:3,5:4,6:5,7:6,8:5,9:4,10:3,11:2,12:1}\n",
    "theory = {k: v/36 for k, v in theory.items()}\n",
    "emp = (counts / N).to_dict()\n",
    "pd.DataFrame({\"empirical\": emp, \"theoretical\": theory})\n"
   ]
  },
  {
   "cell_type": "markdown",
   "id": "c8771b51-29c1-4fd6-89a8-1f1c3d93e8a6",
   "metadata": {},
   "source": [
    "Cell 5 (Markdown reflection):"
   ]
  },
  {
   "cell_type": "code",
   "execution_count": null,
   "id": "af5477c2-be96-4245-935c-bd9ac0aa7cfc",
   "metadata": {},
   "outputs": [],
   "source": [
    "### Reflection\n",
    "- How close is the empirical distribution to the theoretical one?\n",
    "- Why is 7 the most common sum?"
   ]
  }
 ],
 "metadata": {
  "kernelspec": {
   "display_name": "Python 3",
   "language": "python",
   "name": "python3"
  },
  "language_info": {
   "codemirror_mode": {
    "name": "ipython",
    "version": 3
   },
   "file_extension": ".py",
   "mimetype": "text/x-python",
   "name": "python",
   "nbconvert_exporter": "python",
   "pygments_lexer": "ipython3",
   "version": "3.8.8"
  }
 },
 "nbformat": 4,
 "nbformat_minor": 5
}
